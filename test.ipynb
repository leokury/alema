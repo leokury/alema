{
 "cells": [
  {
   "cell_type": "code",
   "execution_count": 2,
   "metadata": {
    "collapsed": true
   },
   "outputs": [],
   "source": [
    "from bs4 import BeautifulSoup\n",
    "import requests"
   ]
  },
  {
   "cell_type": "code",
   "execution_count": 3,
   "metadata": {
    "collapsed": true
   },
   "outputs": [],
   "source": [
    "proxies = {\n",
    "  'http': 'http://localhost:3128',\n",
    "  'https': 'http://localhost:3128',\n",
    "}"
   ]
  },
  {
   "cell_type": "code",
   "execution_count": 4,
   "metadata": {
    "collapsed": true
   },
   "outputs": [],
   "source": [
    "url_deputados = \"http://sapl.al.ma.leg.br:8080/sapl/consultas/parlamentar/parlamentar_index_html?hdn_num_legislatura=18&hdn_mostrar_inativos=0\" \n",
    "r = requests.get(url_deputados, proxies=proxies)"
   ]
  },
  {
   "cell_type": "code",
   "execution_count": 5,
   "metadata": {
    "collapsed": true
   },
   "outputs": [],
   "source": [
    "soup = BeautifulSoup(r.text, \"html.parser\")\n",
    "tables = soup.findChildren('table')\n",
    "dep_table = tables[1]"
   ]
  },
  {
   "cell_type": "code",
   "execution_count": 6,
   "metadata": {
    "collapsed": true
   },
   "outputs": [],
   "source": [
    "dep_rows = dep_table.find_all('tr')\n",
    "dep_rows = dep_rows[1:] #ignora cabeçalho\n",
    "#dep_rows"
   ]
  },
  {
   "cell_type": "code",
   "execution_count": 7,
   "metadata": {},
   "outputs": [
    {
     "name": "stdout",
     "output_type": "stream",
     "text": [
      "Adriano Sarney SIM\n"
     ]
    }
   ],
   "source": [
    "row = dep_rows[0]\n",
    "dep_name = row.find('b').text\n",
    "active = row.find_all('td')[2].text.strip()\n",
    "print dep_name,active"
   ]
  },
  {
   "cell_type": "code",
   "execution_count": 8,
   "metadata": {},
   "outputs": [
    {
     "name": "stdout",
     "output_type": "stream",
     "text": [
      "Adriano Sarney\n",
      "Alexandre Almeida\n",
      "Ana do Gás\n",
      "Andréa Murad\n",
      "Antônio Pereira\n",
      "Bira do Pindaré\n",
      "Cabo Campos\n",
      "Carlinhos Florêncio\n",
      "César Pires\n",
      "Dr. Levi Pontes\n",
      "Edilázio Júnior\n",
      "Edson Araújo\n",
      "Eduardo Braide\n",
      "Fábio Braga\n",
      "Fábio Macedo\n",
      "Francisca Primo\n",
      "Glalbert Cutrim\n",
      "Graça Paz\n",
      "Hemetério Weba\n",
      "Humberto Coutinho\n",
      "Josimar de Maranhãozinho\n",
      "Júnior Verde\n",
      "Léo Cunha\n",
      "Marcos Caldas\n",
      "Max Barros\n",
      "Nina Melo\n",
      "Othelino Neto\n",
      "Paulo Neto\n",
      "Professor Marco Aurélio\n",
      "Rafael Leitoa\n",
      "Raimundo Cutrim\n",
      "Ricardo Rios \n",
      "Rigo Teles\n",
      "Roberto Costa\n",
      "Rogério Cafeteira\n",
      "Sergio Frota\n",
      "Sousa Neto\n",
      "Stênio Rezende\n",
      "Toca Serra\n",
      "Valéria Macedo\n",
      "Vinícius Louro\n",
      "Wellington do Curso\n",
      "Zé Inácio\n",
      "Total de deputados 43\n"
     ]
    }
   ],
   "source": [
    "deputados = []\n",
    "for row in dep_rows:\n",
    "    active = row.find_all('td')[2].text.strip()\n",
    "    dep_name = row.find('b').text\n",
    "    if active == 'SIM':\n",
    "        print dep_name\n",
    "        deputados.append(dep_name)\n",
    "    \n",
    "print 'Total de deputados', len(deputados)"
   ]
  },
  {
   "cell_type": "code",
   "execution_count": 14,
   "metadata": {
    "collapsed": true
   },
   "outputs": [],
   "source": [
    "def salva(text):\n",
    "    with open('text.html', 'w') as file:\n",
    "        file.write(r.text.encode('utf-8'))"
   ]
  },
  {
   "cell_type": "code",
   "execution_count": 9,
   "metadata": {
    "collapsed": true
   },
   "outputs": [],
   "source": [
    "url_verbas = \"http://www.al.ma.leg.br/portal/control_verbas/control_verbas.php\"\n",
    "data = {\n",
    "    'nomefun': 'ADRIANO',\n",
    "    'competencia': '082017'\n",
    "}\n",
    "\n",
    "r = requests.post(url_verbas, proxies=proxies, data=data)\n",
    "r.text\n",
    "\n",
    "with open('text.html', 'w') as file:\n",
    "    file.write(r.text.encode('utf-8'))"
   ]
  },
  {
   "cell_type": "code",
   "execution_count": 10,
   "metadata": {
    "collapsed": true
   },
   "outputs": [],
   "source": [
    "url_verbas = \"http://www.al.ma.leg.br/portal/grid_tab_usuarios/grid_tab_usuarios.php\"\n",
    "data = {\n",
    "    'nmgp_parms': 'parm1?#?JOSÉ ADRIANO CORDEIRO SARNEY?@?',\n",
    "    'target': 'parm2=082017'\n",
    "}\n",
    "\n",
    "r = requests.post(url_verbas, proxies=proxies, data=data)\n",
    "r.text\n",
    "\n",
    "with open('text.html', 'w') as file:\n",
    "    file.write(r.text.encode('utf-8'))"
   ]
  },
  {
   "cell_type": "code",
   "execution_count": 17,
   "metadata": {},
   "outputs": [
    {
     "data": {
      "text/plain": [
       "u'<!DOCTYPE HTML PUBLIC \"-//W3C//DTD HTML 4.01 Transitional//EN\"\\r\\n            \"http://www.w3.org/TR/1999/REC-html401-19991224/loose.dtd\">\\r\\n\\r\\n   <HTML>\\r\\n   <HEAD>\\r\\n    <META http-equiv=\"Content-Type\" content=\"text/html; charset=utf-8\" />\\r\\n    <META http-equiv=\"Expires\" content=\"Fri, Jan 01 1900 00:00:00 GMT\"/>\\r\\n    <META http-equiv=\"Last-Modified\" content=\"Fri, 19 Jan 2018 15:32:06 GMT\"/>\\r\\n    <META http-equiv=\"Cache-Control\" content=\"no-store, no-cache, must-revalidate\"/>\\r\\n    <META http-equiv=\"Cache-Control\" content=\"post-check=0, pre-check=0\"/>\\r\\n    <META http-equiv=\"Pragma\" content=\"no-cache\"/>\\r\\n    <SCRIPT type=\"text/javascript\" src=\"/portal/_lib/prod/third/jquery/js/jquery.js\"></SCRIPT>\\r\\n   </HEAD>\\r\\n   <BODY>\\r\\n<form name=\"Fredir\" method=\"post\" \\r\\n                  target=\"_self\"> \\r\\n  <input type=\"hidden\" name=\"nmgp_parms\" value=\"parm1?#?ADRIANO?@?\"/>\\r\\n  <input type=\"hidden\" name=\"nmgp_url_saida\" value=\"/portal/control_verbas/control_verbas.php\">\\r\\n  <input type=\"hidden\" name=\"script_case_init\" value=\"7304\"/> \\r\\n  <input type=\"hidden\" name=\"script_case_session\" value=\"vtf0q722io9u9j7lts5flu4ns6\"> \\r\\n</form> \\r\\n   <SCRIPT type=\"text/javascript\">\\r\\n    $(function() {\\r\\n       document.Fredir.target = \"parm2=082017\"; \\r\\n       document.Fredir.action = \"/portal/grid_tab_usuarios/grid_tab_usuarios.php\";\\r\\n       document.Fredir.submit();\\r\\n    });\\r\\n   </SCRIPT>\\r\\n   </BODY>\\r\\n   </HTML>\\r\\n'"
      ]
     },
     "execution_count": 17,
     "metadata": {},
     "output_type": "execute_result"
    }
   ],
   "source": [
    "session = requests.Session()\n",
    "\n",
    "url_verbas = \"http://www.al.ma.leg.br/portal/control_verbas/control_verbas.php\"\n",
    "\n",
    "session.get(url_verbas)\n",
    "\n",
    "data = {\n",
    "    'nomefun': 'ADRIANO',\n",
    "    'competencia': '082017',\n",
    "    'nmgp_opcao': 'alterar'\n",
    "}\n",
    "\n",
    "r = session.post(url_verbas, data=data)\n",
    "salva(r.text)\n",
    "r.text"
   ]
  },
  {
   "cell_type": "code",
   "execution_count": null,
   "metadata": {
    "collapsed": true
   },
   "outputs": [],
   "source": []
  }
 ],
 "metadata": {
  "kernelspec": {
   "display_name": "Python [default]",
   "language": "python",
   "name": "python2"
  },
  "language_info": {
   "codemirror_mode": {
    "name": "ipython",
    "version": 2
   },
   "file_extension": ".py",
   "mimetype": "text/x-python",
   "name": "python",
   "nbconvert_exporter": "python",
   "pygments_lexer": "ipython2",
   "version": "2.7.13"
  }
 },
 "nbformat": 4,
 "nbformat_minor": 2
}

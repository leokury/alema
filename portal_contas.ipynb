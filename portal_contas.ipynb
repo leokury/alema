{
 "cells": [
  {
   "cell_type": "code",
   "execution_count": 67,
   "metadata": {
    "collapsed": true
   },
   "outputs": [],
   "source": [
    "from bs4 import BeautifulSoup\n",
    "import requests\n",
    "import json\n",
    "import urllib"
   ]
  },
  {
   "cell_type": "code",
   "execution_count": 68,
   "metadata": {
    "collapsed": true
   },
   "outputs": [],
   "source": [
    "def salva(text):\n",
    "    with open('text.html', 'w') as file:\n",
    "        file.write(r.text.encode('utf-8'))"
   ]
  },
  {
   "cell_type": "code",
   "execution_count": 69,
   "metadata": {},
   "outputs": [
    {
     "data": {
      "text/plain": [
       "[u'ALEXANDRE VICENTE DE PAULA ALMEIDA',\n",
       " u'ANA DE NAZAR\\xc9 PEREIRA SILVA MACEDO MENDON\\xc7A',\n",
       " u'ANDREA TROV\\xc3O MURAD BARROS',\n",
       " u'ANT\\xd4NIO PEREIRA FILHO',\n",
       " u'CARLOS WELLINGTON DE CASTRO BEZERRA',\n",
       " u'C\\xc9SAR HENRIQUE SANTOS PIRES',\n",
       " u'DOMINGOS ERINALDO SOUSA SERRA',\n",
       " u'EDIL\\xc1ZIO GOMES DA SILVA J\\xdaNIOR',\n",
       " u'EDIVALDO DE HOLANDA BRAGA',\n",
       " u'EDSON CUNHA DE ARA\\xdaJO',\n",
       " u'EDUARDO SALIM BRAIDE',\n",
       " u'F\\xc1BIO HENRIQUE DIAS DE MACEDO',\n",
       " u'F\\xc1BIO HENRIQUE RAMOS BRAGA',\n",
       " u'FRANCISCA FERREIRA',\n",
       " u'FRANCISCO DE SOUSA DIAS NETO']"
      ]
     },
     "execution_count": 69,
     "metadata": {},
     "output_type": "execute_result"
    }
   ],
   "source": [
    "\"\"\"\n",
    "obtem os deputados da requisicao inicial\n",
    "\"\"\"\n",
    "session = requests.Session()\n",
    "deputados = []\n",
    "\n",
    "url_verbas = \"http://www.al.ma.leg.br/portal/grid_tab_usuarios/grid_tab_usuarios.php\"\n",
    "\n",
    "session.get(url_verbas)\n",
    "\n",
    "data = {\n",
    "    'nmgp_parms': 'parm1?#??@?',\n",
    "    'nmgp_opcao': 'alterar'\n",
    "}\n",
    "\n",
    "r = session.post(url_verbas, data=data)\n",
    "\n",
    "soup = BeautifulSoup(r.text, \"html.parser\")\n",
    "table = soup.find('table', class_=\"scGridTabela\")\n",
    "\n",
    "for a in table.find_all('a'):\n",
    "    dep = a.text\n",
    "    deputados.append(dep)\n",
    "    \n",
    "deputados"
   ]
  },
  {
   "cell_type": "code",
   "execution_count": 70,
   "metadata": {},
   "outputs": [
    {
     "name": "stdout",
     "output_type": "stream",
     "text": [
      "16\n",
      "31\n",
      "46\n",
      "61\n",
      "[u'ALEXANDRE VICENTE DE PAULA ALMEIDA', u'ANA DE NAZAR\\xc9 PEREIRA SILVA MACEDO MENDON\\xc7A', u'ANDREA TROV\\xc3O MURAD BARROS', u'ANT\\xd4NIO PEREIRA FILHO', u'CARLOS WELLINGTON DE CASTRO BEZERRA', u'C\\xc9SAR HENRIQUE SANTOS PIRES', u'DOMINGOS ERINALDO SOUSA SERRA', u'EDIL\\xc1ZIO GOMES DA SILVA J\\xdaNIOR', u'EDIVALDO DE HOLANDA BRAGA', u'EDSON CUNHA DE ARA\\xdaJO', u'EDUARDO SALIM BRAIDE', u'F\\xc1BIO HENRIQUE DIAS DE MACEDO', u'F\\xc1BIO HENRIQUE RAMOS BRAGA', u'FRANCISCA FERREIRA', u'FRANCISCO DE SOUSA DIAS NETO', u'GLALBERT NASCIMENTO CUTRIM', u'HEMET\\xc9RIO WEBA FILHO', u'HUMBERTO IVAR DE ARA\\xdaJO COUTINHO', u'JESUINO CORDEIRO MENDES JUNIOR', u'JOAQUIM ELIAS NAGIB PINTO HAICKEL', u'JOS\\xc9 ADRIANO CORDEIRO SARNEY', u'JOS\\xc9 ARIMATEIA LIMA NETO EVANGELISTA', u'JOS\\xc9 CARLOS NOBRE MONTEIRO', u'JOS\\xc9 IN\\xc1CIO SODR\\xc9 RODRIGUES', u'JOS\\xc9 MAX PEREIRA BARROS', u'JOS\\xc9 ROBERTO COSTA SANTOS', u'JOSIMAR CUNHA RODRIGUES', u'LEOARREN T\\xdaLIO DE SOUSA CUNHA ', u'LEVI PONTES DE AGUIAR', u'MARCO AUR\\xc9LIO DA SILVA AZEVEDO', u'MARCOS ANT\\xd4NIO DE CARVALHO CALDAS', u'MARCUS VIN\\xcdCIUS DE OLIVEIRA PEREIRA', u'MARIA DA GRA\\xc7A FONSECA PAZ', u'NINA CERES COUTO DE MELO', u'OTHELINO NOVA ALVES NETO', u'PAULO ROBERTO ALMEIDA NETO', u'RAFAEL DE BRITO SOUSA', u'RAIMUNDO SOARES CUTRIM', u'RICARDO TADEU RIBEIRO PEARCE', u'RIGO ALBERTO TELES DE SOUSA', u'ROBERTO CAMPOS FILHO', u'ROG\\xc9RIO RODRIGUES LIMA', u'S\\xc9RGIO BARBOSA FROTA', u'S\\xc9RGIO RICARDO OLIVEIRA VIEIRA', u'ST\\xcaNIO DOS SANTOS RESENDE', u'UBIRAJARA DO PINDAR\\xc9 ALMEIDA SOUSA', u'VAL\\xc9RIA MARIA SANTOS MACEDO']\n",
      "total: 47\n"
     ]
    }
   ],
   "source": [
    "\"\"\"\n",
    "Obtem os deputados que sao retornados quando muda a pagina\n",
    "\"\"\"\n",
    "inc = 15\n",
    "parm = 1\n",
    "while True:\n",
    "    parm = parm + inc\n",
    "    print parm\n",
    "    data = {\n",
    "        'parm': str(parm),\n",
    "        'nmgp_opcao': 'ajax_navigate',\n",
    "        'opc': 'rec'\n",
    "    }\n",
    "\n",
    "    r = session.post(url_verbas, data=data)\n",
    "\n",
    "    ajax_response = json.loads(r.text)\n",
    "\n",
    "    ajax_html = ajax_response['setValue'][1]['value']\n",
    "\n",
    "    soup = BeautifulSoup(ajax_html, \"html.parser\")\n",
    "    table = soup.find('table', class_=\"scGridTabela\")\n",
    "\n",
    "    if not table: break;\n",
    "\n",
    "    for a in table.find_all('a'):\n",
    "        dep = a.text\n",
    "        deputados.append(dep)\n",
    "    \n",
    "print deputados\n",
    "print 'total:', len(deputados)"
   ]
  },
  {
   "cell_type": "code",
   "execution_count": 117,
   "metadata": {},
   "outputs": [
    {
     "name": "stdout",
     "output_type": "stream",
     "text": [
      "ANA DE NAZARÉ PEREIRA SILVA MACEDO MENDONÇA\n"
     ]
    }
   ],
   "source": [
    "print deputados[1]"
   ]
  },
  {
   "cell_type": "code",
   "execution_count": 134,
   "metadata": {},
   "outputs": [
    {
     "name": "stdout",
     "output_type": "stream",
     "text": [
      " parm1?#?ANA DE NAZAR� PEREIR?@?\n",
      "@SC_par@7806@SC_par@grid_tab_usuarios@SC_par@7408b486c2ca0aeba516a5080dd605c9\n",
      "código 09 descrição Combustíveis e lubrificantes valor 11.625,53\n",
      "código 11 descrição Contratação de assessorias, consultorias e trabalhos técnicos  valor 7.000,00\n",
      "código 17 descrição Diária de servidor do gabinete valor 15.035,00\n",
      "código 06 descrição Fornecimento de alimentação ao parlamentar e assessores valor 5.198,36\n",
      "código 16 descrição Manutenção, peças e acessórios de veículos valor 887,69\n",
      "código 13 descrição Material de expediente e suprimentos de informática valor 70,29\n",
      "código 01 descrição Passagens valor 0,00\n",
      "código 02 descrição Telefonia valor 1.456,29\n",
      "[<tr class=\"scGridSubtotal\">\\n<td align=\"left\" class=\"scGridSubtotalFont\" colspan=\"2\" nowrap=\"\">O valor ressarcido \\xe9 R$ 41.779,83 - Total gasto no m\\xeas: </td>\\n<td align=\"\" class=\"scGridSubtotalFont css_valor_sub_tot\" nowrap=\"\">41.273,16</td>\\n</tr>]\n"
     ]
    }
   ],
   "source": [
    "\"\"\"Obter as despesas de cada parlamentar\"\"\"\n",
    "\n",
    "url_control = 'http://www.al.ma.leg.br/portal/control_verbas/control_verbas.php'\n",
    "\n",
    "nome_dep = deputados[1]\n",
    "\n",
    "data = {\n",
    "    'nomefun': nome_dep[:20].encode('latin1'),\n",
    "    'nmgp_opcao': 'alterar',\n",
    "    'competencia': '042017'\n",
    "    \n",
    "}\n",
    "\n",
    "r = session.post(url_control, data=data)\n",
    "\n",
    "soup = BeautifulSoup(r.text, \"html.parser\")\n",
    "nmgp_parms = soup.find('input', {'name': 'nmgp_parms'})\n",
    "\n",
    "print nmgp_parms['value'].encode('utf-8')\n",
    "\n",
    "data = {\n",
    "    'nmgp_parms': nmgp_parms['value'],\n",
    "    'nmgp_url_saida': '/portal/control_verbas/control_verbas.php',\n",
    "}\n",
    "\n",
    "r = session.post(url_verbas, data=data)\n",
    "\n",
    "#print r.text\n",
    "#salva(r.text)\n",
    "\n",
    "soup = BeautifulSoup(r.text, \"html.parser\")\n",
    "link = soup.find('a', class_=\"scGridFieldOddLink css_nomusu_grid_line\")\n",
    "link_id = link['href'].split()[2]\n",
    "\n",
    "print link_id[1:-2]\n",
    "\n",
    "url_tab_verbas = \"http://www.al.ma.leg.br/portal/grid_tab_verbas/grid_tab_verbas.php\"\n",
    "data = {\n",
    "    'nmgp_parms': link_id[1:-2]\n",
    "}\n",
    "\n",
    "r = session.post(url_tab_verbas, data=data)\n",
    "\n",
    "soup = BeautifulSoup(r.text, \"html.parser\")\n",
    "table = soup.find('table', class_= 'scGridTabela')\n",
    "\n",
    "linhas = table.findChildren('tr')[3:]\n",
    "total = linhas[-1:]\n",
    "\n",
    "colunas = linhas[0].findChildren('td')\n",
    "\n",
    "\n",
    "for linha in linhas[:-1]:\n",
    "    colunas = linha.findChildren('td')\n",
    "    print 'código', colunas[0].find('span').text, 'descrição', colunas[1].find('span').text, 'valor', colunas[2].find('span').text\n",
    "\n",
    "print total\n",
    "#salva(r.text)\n",
    "#print r.text"
   ]
  },
  {
   "cell_type": "code",
   "execution_count": null,
   "metadata": {
    "collapsed": true
   },
   "outputs": [],
   "source": []
  }
 ],
 "metadata": {
  "kernelspec": {
   "display_name": "Python [default]",
   "language": "python",
   "name": "python2"
  },
  "language_info": {
   "codemirror_mode": {
    "name": "ipython",
    "version": 2
   },
   "file_extension": ".py",
   "mimetype": "text/x-python",
   "name": "python",
   "nbconvert_exporter": "python",
   "pygments_lexer": "ipython2",
   "version": "2.7.13"
  }
 },
 "nbformat": 4,
 "nbformat_minor": 2
}
